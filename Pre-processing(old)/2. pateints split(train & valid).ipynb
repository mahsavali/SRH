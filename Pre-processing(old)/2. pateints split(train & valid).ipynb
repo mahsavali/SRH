{
  "cells": [
    {
      "cell_type": "code",
      "execution_count": 1,
      "id": "2e56cf64",
      "metadata": {},
      "outputs": [],
      "source": [
        "path = 'patches500'"
      ]
    },
    {
      "cell_type": "code",
      "execution_count": 2,
      "id": "4396f544",
      "metadata": {
        "execution": {
          "iopub.execute_input": "2023-05-13T02:01:18.151561Z",
          "iopub.status.busy": "2023-05-13T02:01:18.150920Z",
          "iopub.status.idle": "2023-05-13T02:01:18.556166Z",
          "shell.execute_reply": "2023-05-13T02:01:18.554804Z"
        },
        "id": "4396f544"
      },
      "outputs": [],
      "source": [
        "import os\n",
        "import numpy as np\n",
        "from collections import Counter\n",
        "from sklearn.model_selection import train_test_split\n",
        "import pandas as pd"
      ]
    },
    {
      "cell_type": "code",
      "execution_count": 3,
      "id": "74094cbb",
      "metadata": {},
      "outputs": [],
      "source": [
        "def list_flatten(lis):\n",
        "    flatList = []\n",
        "    for element in lis:\n",
        "        if type(element) is list:\n",
        "            for item in element:\n",
        "                flatList.append(item)\n",
        "        else:\n",
        "            flatList.append(element)\n",
        "    return flatList"
      ]
    },
    {
      "cell_type": "code",
      "execution_count": null,
      "id": "64758c79",
      "metadata": {},
      "outputs": [],
      "source": [
        "files = os.listdir(path)\n",
        "df = pd.DataFrame({'files': files})\n",
        "df['patient'] = df['files'].apply(lambda x: x.split('_')[0])\n",
        "df['files'] = df['files'].apply(lambda x: os.path.join(path,x))\n",
        "df = df.groupby('patient')['files'].apply(list).reset_index(name=\"files\")\n",
        "df['label'] = df['files'].apply(lambda x: int(x[0].split('_')[4]))\n",
        "df = df[df.label !=6]\n",
        "df = df[df.label !=7]\n",
        "\n",
        "df = df.reset_index(drop=True)\n",
        "\n",
        "data_counts = {}\n",
        "data_list = {}\n",
        "max_length = 0\n",
        "train_patients, valid_patients = [], []\n",
        "\n",
        "for sub_df in df.groupby('label'):\n",
        "    train_split, valid_split = train_test_split(sub_df[1], test_size=0.2, random_state=42)\n",
        "\n",
        "    train_list = list_flatten(train_split['files'].tolist())\n",
        "    valid_list = list_flatten(valid_split['files'].tolist())\n",
        "\n",
        "    train_patients+= train_list\n",
        "    valid_patients+= valid_list\n",
        "    \n",
        "    data_counts[sub_df[0]] = len(train_list)\n",
        "    data_list[sub_df[0]] = train_list\n",
        "    if len(train_list)>max_length:\n",
        "        max_length = len(train_list)\n",
        "\n",
        "# balance data\n",
        "# for i,j in data_counts.items():\n",
        "#     m = round(max_length/j)\n",
        "#     train_patients+= data_list[i]*m\n"
      ]
    },
    {
      "cell_type": "code",
      "execution_count": 5,
      "id": "66bb0c0f",
      "metadata": {},
      "outputs": [],
      "source": [
        "train_patients = pd.DataFrame(train_patients, columns=['path'])\n",
        "valid_patients = pd.DataFrame(valid_patients, columns=['path'])\n",
        "\n",
        "train_patients['patches'] = train_patients['path'].apply(lambda x: '_'.join(x.split('/')[1].split('_')[:-3]))\n",
        "valid_patients['patches'] = valid_patients['path'].apply(lambda x: '_'.join(x.split('/')[1].split('_')[:-3]))\n",
        "\n",
        "train_patients = train_patients.sort_values('path').reset_index(drop=True)\n",
        "valid_patients = valid_patients.sort_values('path').reset_index(drop=True)\n",
        "\n",
        "train_df = train_patients['path'].groupby(train_patients.patches).apply(list).reset_index()\n",
        "valid_df = valid_patients['path'].groupby(valid_patients.patches).apply(list).reset_index()\n",
        "\n",
        "train_df['count_patches'] = train_df['path'].apply(lambda x: len(x))\n",
        "valid_df['count_patches'] = valid_df['path'].apply(lambda x: len(x))"
      ]
    },
    {
      "cell_type": "code",
      "execution_count": 6,
      "id": "93da6439",
      "metadata": {},
      "outputs": [],
      "source": [
        "train_df.to_json('train_df.json')\n",
        "valid_df.to_json('valid_df.json')"
      ]
    }
  ],
  "metadata": {
    "colab": {
      "provenance": []
    },
    "kernelspec": {
      "display_name": "Python 3 (ipykernel)",
      "language": "python",
      "name": "python3"
    },
    "language_info": {
      "codemirror_mode": {
        "name": "ipython",
        "version": 3
      },
      "file_extension": ".py",
      "mimetype": "text/x-python",
      "name": "python",
      "nbconvert_exporter": "python",
      "pygments_lexer": "ipython3",
      "version": "3.8.16"
    },
    "widgets": {
      "application/vnd.jupyter.widget-state+json": {}
    }
  },
  "nbformat": 4,
  "nbformat_minor": 5
}
