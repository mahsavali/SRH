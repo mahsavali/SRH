{
  "cells": [
    {
      "cell_type": "code",
      "execution_count": 1,
      "metadata": {
        "id": "Ue-QPatpYIqi"
      },
      "outputs": [],
      "source": [
        "import pandas as pd\n",
        "import numpy as np\n",
        "import pydicom as dicom\n",
        "import os, cv2, sys\n",
        "import warnings\n",
        "warnings.filterwarnings('ignore')"
      ]
    },
    {
      "cell_type": "code",
      "execution_count": null,
      "metadata": {},
      "outputs": [],
      "source": [
        "output_dir = 'patches'\n",
        "\n",
        "class_names = {'non-tumor': 0,\n",
        "               'adenocarcinoma': 1,\n",
        "               'hematopoietic ': 2,\n",
        "               'squamous cell carcinoma ': 3,\n",
        "               'melanoma': 4,\n",
        "               'neuroendocrine carcinoma ': 5,\n",
        "               'sarcoma ': 6,\n",
        "               'urothelial carcinoma ': 7,}\n",
        "\n",
        "excel_path = 'Mets_morphology_dataset_fin.xlsx'\n",
        "excel = pd.read_excel(excel_path)\n",
        "excel['number'] = excel['number'].astype('str')\n",
        "\n",
        "# class_names = {j:i for i,j in enumerate(excel['Histomorphology'].unique().tolist())}\n",
        "\n",
        "n_classes = len(class_names)\n",
        "class_labels = {excel['number'][i]:class_names[excel['Histomorphology'][i]]  for i in range(len(excel))}"
      ]
    },
    {
      "cell_type": "code",
      "execution_count": 3,
      "metadata": {},
      "outputs": [
        {
          "name": "stdout",
          "output_type": "stream",
          "text": [
            "folder 111/111"
          ]
        }
      ],
      "source": [
        "image_dir = 'Channel Images'\n",
        "\n",
        "patch_size = 224\n",
        "step_size = 200\n",
        "\n",
        "if not(os.path.exists(output_dir)):\n",
        "    os.mkdir(output_dir)\n",
        "folders = os.listdir(image_dir)\n",
        "\n",
        "crop = np.zeros((patch_size,patch_size,3))\n",
        "\n",
        "for i, patient in enumerate(folders):\n",
        "    image_subdir = os.path.join(image_dir,patient)\n",
        "    files = os.listdir(image_subdir)\n",
        "\n",
        "    temp_df = pd.DataFrame({'col1': files})\n",
        "    temp_df['number'] = temp_df['col1'].apply(lambda x: int(x.split('_')[1]))\n",
        "    temp_df['name'] = temp_df['col1'].apply(lambda x: x.split('_')[0])\n",
        "\n",
        "    for sub_df in temp_df.groupby('name'):\n",
        "        sorted_files = sub_df[1].sort_values(by=['number']).reset_index(drop=True)['col1'].tolist()\n",
        "        for j in range(0,len(sorted_files),2):\n",
        "            # read dcm file\n",
        "            splited_name = sorted_files[j].split('_')\n",
        "            label = class_labels[patient]\n",
        "            if label not in [6,7]:\n",
        "                dcm_sample1 = (dicom.dcmread(os.path.join(image_subdir, sorted_files[j])).pixel_array/65536)*255\n",
        "                dcm_sample2 = (dicom.dcmread(os.path.join(image_subdir, sorted_files[j+1])).pixel_array/65536)*255\n",
        "                file_shape1 = dcm_sample1.shape[0]\n",
        "                file_shape2 = dcm_sample1.shape[1]\n",
        "                counter = 0\n",
        "                for m in range(0, file_shape1-(patch_size-step_size)+1, step_size):\n",
        "                    for n in range(0, file_shape2-(patch_size-step_size)+1, step_size):\n",
        "                        if m+patch_size>file_shape1:\n",
        "                            o= file_shape1-patch_size\n",
        "                        else:\n",
        "                            o=m\n",
        "                        if n+patch_size>file_shape2:\n",
        "                            p= file_shape2-patch_size\n",
        "                        else:\n",
        "                            p=n\n",
        "                        if np.max(dcm_sample1[o:o+patch_size, p:p+patch_size])>5 and np.max(dcm_sample2[o:o+patch_size, p:p+patch_size])>5:\n",
        "\n",
        "                            crop[:,:,0] = dcm_sample2[o:o+patch_size, p:p+patch_size] - dcm_sample1[o:o+patch_size, p:p+patch_size]\n",
        "                            crop[:,:,1] = dcm_sample1[o:o+patch_size, p:p+patch_size]\n",
        "                            crop[:,:,2] = dcm_sample2[o:o+patch_size, p:p+patch_size]\n",
        "                            \n",
        "                            counter+= 1\n",
        "                            if counter<10:\n",
        "                                # cv2.imwrite('{}/{}_{}_{}_label_{}_patch_0{}_.png'.format(output_dir, patient, splited_name[0], splited_name[1], label, counter), cv2.resize(crop, (224,224)))\n",
        "                                cv2.imwrite('{}/{}_{}_{}_label_{}_patch_0{}_.png'.format(output_dir, patient, splited_name[0], splited_name[1], label, counter), crop)\n",
        "                            else:\n",
        "                                cv2.imwrite('{}/{}_{}_{}_label_{}_patch_{}_.png'.format(output_dir, patient, splited_name[0], splited_name[1], label, counter), crop)\n",
        "    sys.stdout.write(\"\\rfolder {}/{}\".format(i+1,len(folders)))\n",
        "    sys.stdout.flush()"
      ]
    },
    {
      "cell_type": "code",
      "execution_count": 6,
      "metadata": {},
      "outputs": [
        {
          "data": {
            "text/plain": [
              "(224, 224, 3)"
            ]
          },
          "execution_count": 6,
          "metadata": {},
          "output_type": "execute_result"
        }
      ],
      "source": [
        "crop.shape"
      ]
    }
  ],
  "metadata": {
    "accelerator": "GPU",
    "colab": {
      "gpuType": "T4",
      "provenance": []
    },
    "gpuClass": "standard",
    "kernelspec": {
      "display_name": "Python 3",
      "name": "python3"
    },
    "language_info": {
      "codemirror_mode": {
        "name": "ipython",
        "version": 3
      },
      "file_extension": ".py",
      "mimetype": "text/x-python",
      "name": "python",
      "nbconvert_exporter": "python",
      "pygments_lexer": "ipython3",
      "version": "3.8.16"
    }
  },
  "nbformat": 4,
  "nbformat_minor": 0
}
